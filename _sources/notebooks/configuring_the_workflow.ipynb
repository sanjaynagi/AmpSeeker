{
 "cells": [
  {
   "attachments": {},
   "cell_type": "markdown",
   "id": "f0ec785c",
   "metadata": {},
   "source": [
    "## Configuring the workflow\n",
    "\n",
    "Before running AmpSeeker, we need to select which analyses we want to run (configuration). This is done by editing the file `config.yaml` in the `config` directory. The config file contains a number of options and parameters."
   ]
  },
  {
   "attachments": {},
   "cell_type": "markdown",
   "id": "b68c50e7",
   "metadata": {},
   "source": [
    "**If you have any issues configuring the pipeline, please watch the video walkthrough first, and raise an issue on github or [email me](mailto:sanjay.c.nagi@gmail.com).**"
   ]
  }
 ],
 "metadata": {
  "kernelspec": {
   "display_name": "Python 3.6.9 64-bit",
   "language": "python",
   "name": "python3"
  },
  "language_info": {
   "codemirror_mode": {
    "name": "ipython",
    "version": 3
   },
   "file_extension": ".py",
   "mimetype": "text/x-python",
   "name": "python",
   "nbconvert_exporter": "python",
   "pygments_lexer": "ipython3",
   "version": "3.6.9"
  },
  "vscode": {
   "interpreter": {
    "hash": "31f2aee4e71d21fbe5cf8b01ff0e069b9275f58929596ceb00d14d90e3e16cd6"
   }
  }
 },
 "nbformat": 4,
 "nbformat_minor": 5
}
