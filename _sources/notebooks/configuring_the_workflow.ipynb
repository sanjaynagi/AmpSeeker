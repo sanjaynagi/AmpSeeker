{
 "cells": [
  {
   "cell_type": "markdown",
   "metadata": {},
   "source": [
    "## Configuring the workflow\n",
    "\n",
    "Before running AmpSeeker, we need to select which analyses we want to run (configuration). This is done by editing the file `config.yaml` in the `config` directory. The config file contains a number of options and parameters."
   ]
  },
  {
   "cell_type": "markdown",
   "metadata": {},
   "source": [
    "**If you have any issues configuring the pipeline, please watch the video walkthrough first, and raise an issue on github or [email me](mailto:sanjay.c.nagi@gmail.com).**"
   ]
  },
  {
   "cell_type": "markdown",
   "metadata": {},
   "source": [
    "## Configuration Parameters"
   ]
  },
  {
   "cell_type": "markdown",
   "metadata": {},
   "source": [
    "```yaml\n",
    "dataset: lab-strains\n",
    "panel: ag-vampir\n",
    "```\n",
    "\n",
    "- **dataset**: A name for your dataset. This will be used to name output files and directories.\n",
    "- **panel**: The name of the amplicon panel used. Currently, the workflow has special support for the \"Ag-vampIR\" panel (Anopheles gambiae vector amplicon marker panel for Insecticide Resistance). If not using Ag-vampIR, panel name can be anything. "
   ]
  },
  {
   "cell_type": "markdown",
   "metadata": {},
   "source": [
    "### Cohort Analysis Configuration\n",
    "\n",
    "```yaml\n",
    "cohort-columns:\n",
    "  - location\n",
    "  - taxon\n",
    "```\n",
    "\n",
    "- **cohort-columns**: List of metadata columns used to group samples for analyses. These columns will be used to color samples in plots and to perform comparisons between groups. Common options include location, taxon, country, and any other categorical variables in your metadata."
   ]
  },
  {
   "cell_type": "markdown",
   "metadata": {},
   "source": [
    "### Input Files Configuration\n",
    "\n",
    "```yaml\n",
    "targets: config/ag-vampir.bed\n",
    "metadata: config/metadata.tsv\n",
    "```\n",
    "\n",
    "- **targets**: Path to a BED file containing the genomic coordinates of amplicon targets. This file should have 5 columns: chromosome, start, end, amplicon_id, and target_label with no header. See the input_data.ipynb for more details.\n",
    "- **metadata**: Path to a TSV file containing sample metadata. At minimum, this file should have a \"sample_id\" column. Additional columns can be used for cohort analysis. Only required if working directly from fastq files (`from-bcl: False`)."
   ]
  },
  {
   "cell_type": "markdown",
   "metadata": {},
   "source": [
    "### Illumina Directory Configuration\n",
    "\n",
    "```yaml\n",
    "illumina-dir: resources/250110_M05658_0028_000000000-LTBV4\n",
    "```\n",
    "\n",
    "- **illumina-dir**: Path to the Illumina MiSeq run directory containing BCL files. This is only required if converting from BCL to FASTQ (`from-bcl: True`). If you already have FASTQ files, this can be left empty."
   ]
  },
  {
   "cell_type": "markdown",
   "metadata": {},
   "source": [
    "### Reference Genome Configuration\n",
    "\n",
    "```yaml\n",
    "reference-fasta: resources/reference/Anopheles-gambiae-PEST_CHROMOSOMES_AgamP4.fa\n",
    "reference-gff3: resources/reference/Anopheles-gambiae-PEST_BASEFEATURES_AgamP4.12.gff3\n",
    "reference-snpeffdb: Anopheles_gambiae\n",
    "custom-snpeffdb: False\n",
    "```\n",
    "\n",
    "- **reference-fasta**: Path to the reference genome FASTA file (can be gzipped with .fa.gz extension).\n",
    "- **reference-gff3**: Path to the genome annotation file in GFF3 format.\n",
    "- **reference-snpeffdb**: Name of the SnpEff database to use for variant annotation. This should match a database name available in SnpEff (e.g., \"Anopheles_gambiae\").\n",
    "- **custom-snpeffdb**: Whether to build a custom SnpEff database. Set to `True` if the reference genome is not available in the standard SnpEff databases."
   ]
  },
  {
   "cell_type": "markdown",
   "metadata": {},
   "source": [
    "### Input File Type Configuration\n",
    "\n",
    "```yaml\n",
    "from-bcl: True\n",
    "fastq:\n",
    "  auto: True\n",
    "```\n",
    "\n",
    "- **from-bcl**: Whether to convert BCL files to FASTQ files. If `True`, the pipeline will use the `illumina-dir` path to find BCL files and convert them to FASTQ format.\n",
    "- **fastq.auto**: If `True`, the pipeline expects FASTQ files to be in `resources/reads/` directory with the naming pattern `{sample_id}_1.fastq.gz` and `{sample_id}_2.fastq.gz`. If `False`, the pipeline expects the metadata file to have columns `fq1` and `fq2` specifying the paths to the FASTQ files."
   ]
  },
  {
   "cell_type": "markdown",
   "metadata": {},
   "source": [
    "### Quality Control Configuration\n",
    "\n",
    "```yaml\n",
    "quality-control:\n",
    "  sample-total-reads-threshold: 250\n",
    "  amplicon-total-reads-threshold: 1000\n",
    "\n",
    "  fastp: True\n",
    "  coverage: True\n",
    "  stats: True\n",
    "  multiqc: True\n",
    "```\n",
    "\n",
    "- **quality-control.sample-total-reads-threshold**: Minimum number of reads required for a sample to pass QC. Samples with fewer reads are removed at the quality control stage.\n",
    "- **quality-control.amplicon-total-reads-threshold**: Minimum number of reads required for an amplicon to be considered for analysis.\n",
    "- **quality-control.fastp**: Whether to run the fastp tool for read quality control and trimming.\n",
    "- **quality-control.coverage**: Whether to calculate and report coverage statistics for each sample.\n",
    "- **quality-control.stats**: Whether to generate alignment and variant calling statistics.\n",
    "- **quality-control.multiqc**: Whether to generate a MultiQC report aggregating various QC metrics."
   ]
  },
  {
   "cell_type": "markdown",
   "metadata": {},
   "source": [
    "### Analysis Configuration\n",
    "\n",
    "```yaml\n",
    "analysis:  \n",
    "  sample-map: False # needs lat and longs in metadata/sample_sheet\n",
    "  population-structure: True\n",
    "  genetic-diversity: True\n",
    "  allele-frequencies: True\n",
    "```\n",
    "\n",
    "- **analysis.sample-map**: Whether to generate a geographic map of sample collection locations. Requires latitude and longitude columns in the metadata file.\n",
    "- **analysis.population-structure**: Whether to perform population structure analysis using principal component analysis (PCA).\n",
    "- **analysis.genetic-diversity**: Whether to calculate genetic diversity metrics (such as nucleotide diversity).\n",
    "- **analysis.allele-frequencies**: Whether to calculate and visualize allele frequencies across samples and groups."
   ]
  },
  {
   "cell_type": "markdown",
   "metadata": {},
   "source": [
    "### Jupyter Book Configuration\n",
    "\n",
    "```yaml\n",
    "build-jupyter-book: True\n",
    "```\n",
    "\n",
    "- **build-jupyter-book**: Whether to compile all analysis notebooks into a Jupyter Book for convenient browsing of results. The book will be available at `results/ampseeker-results/_build/html/index.html`."
   ]
  },
  {
   "cell_type": "markdown",
   "metadata": {},
   "source": [
    "## Special Analyses for Ag-vampIR Panel\n",
    "\n",
    "When using the Ag-vampIR panel (`panel: ag-vampir`), the workflow automatically enables additional analyses:\n",
    "\n",
    "1. **Species Identification**: Identifies Anopheles species using amplicon sequencing data (results in `results/notebooks/ag-vampir/species-id.ipynb`).\n",
    "2. **Kdr Analysis**: Analyzes knockdown resistance mutations in the voltage-gated sodium channel (results in `results/notebooks/ag-vampir/kdr-analysis.ipynb`)."
   ]
  },
  {
   "cell_type": "markdown",
   "metadata": {},
   "source": [
    "## Example Configuration\n",
    "\n",
    "Here's a complete example configuration for reference:\n",
    "\n",
    "```yaml\n",
    "# Dataset and panel information\n",
    "dataset: lab-strains\n",
    "panel: ag-vampir\n",
    "cohort-columns:\n",
    "  - location\n",
    "  - taxon\n",
    "  - country\n",
    "targets: config/ag-vampir.bed\n",
    "metadata: config/metadata.tsv\n",
    "\n",
    "# Illumina directory (if using BCL files)\n",
    "illumina-dir: resources/250110_M05658_0028_000000000-LTBV4\n",
    "\n",
    "# Reference genome information\n",
    "reference-name: AgamP4\n",
    "reference-fasta: resources/reference/Anopheles-gambiae-PEST_CHROMOSOMES_AgamP4.fa\n",
    "reference-gff3: resources/reference/Anopheles-gambiae-PEST_BASEFEATURES_AgamP4.12.gff3\n",
    "reference-snpeffdb: Anopheles_gambiae\n",
    "custom-snpeffdb: False\n",
    "\n",
    "# Input file type options\n",
    "from-bcl: True\n",
    "fastq:\n",
    "  auto: True\n",
    "\n",
    "# Quality control options\n",
    "quality-control:\n",
    "  sample-total-reads-threshold: 250\n",
    "  amplicon-total-reads-threshold: 1000\n",
    "  fastp: True\n",
    "  coverage: True\n",
    "  stats: True\n",
    "  multiqc: True\n",
    "\n",
    "# Analysis options\n",
    "analysis:  \n",
    "  sample-map: False\n",
    "  population-structure: True\n",
    "  genetic-diversity: True\n",
    "  allele-frequencies: True\n",
    "\n",
    "# Build Jupyter book\n",
    "build-jupyter-book: True\n",
    "```"
   ]
  }
 ],
 "metadata": {
  "language_info": {
   "name": "python"
  }
 },
 "nbformat": 4,
 "nbformat_minor": 2
}
