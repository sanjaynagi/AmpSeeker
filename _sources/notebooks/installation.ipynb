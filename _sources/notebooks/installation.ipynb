{
 "cells": [
  {
   "attachments": {},
   "cell_type": "markdown",
   "id": "f364096b",
   "metadata": {},
   "source": "# Installation\n\nAmpSeeker does not require installation, however, users must have [snakemake](https://snakemake.readthedocs.io/) and [conda](https://conda.io/) installed in order to run the workflow.\n\n## Step-by-step Installation\n\n### 1. Install Miniforge\n\nMiniforge is a minimal installer for conda with preinstalled conda-forge packages. It's recommended over Miniconda or Anaconda because it uses conda-forge as the default channel, which is important for bioinformatics packages.\n\nDownload and install Miniforge from: https://github.com/conda-forge/miniforge\n\nFor Linux:\n```bash\nwget https://github.com/conda-forge/miniforge/releases/latest/download/Miniforge3-Linux-x86_64.sh\nbash Miniforge3-Linux-x86_64.sh\n```\n\nFor macOS (Intel):\n```bash\nwget https://github.com/conda-forge/miniforge/releases/latest/download/Miniforge3-MacOSX-x86_64.sh\nbash Miniforge3-MacOSX-x86_64.sh\n```\n\nFor macOS (Apple Silicon/M1/M2):\n```bash\nwget https://github.com/conda-forge/miniforge/releases/latest/download/Miniforge3-MacOSX-arm64.sh\nbash Miniforge3-MacOSX-arm64.sh\n```\n\n### 2. Create a Conda Environment for Snakemake\n\nAfter installing Miniforge, set up a conda environment specifically for Snakemake and AmpSeeker:\n\n```bash\nconda create -n ampseeker -c conda-forge -c bioconda snakemake pandas\nconda activate ampseeker\n```\n\nThis creates a dedicated environment called \"ampseeker\" with Snakemake and pandas installed.\n\n### 3. Clone the AmpSeeker Repository\n\nNext, clone the AmpSeeker github repository to your system. You may use the below command, replacing `my_repo_name` with something of your choice. This may be useful in case you ever use AmpSeeker on multiple datasets. \n\n```bash\ngit clone https://github.com/sanjaynagi/AmpSeeker.git my_repo_name\ncd my_repo_name\n```\n\nAlternatively, if you think you may want to contribute to AmpSeeker, you may wish to fork the repository to your github account prior to cloning. For more information, please see the [docs on contributing](https://sanjaynagi.github.io/AmpSeeker/notebooks/contributing.html).\n\n### 4. Installing Dependencies\n\nWhen we run AmpSeeker, it is important to use the `--use-conda` directive - this will automatically install all necessary packages into isolated software environments, so we do not have to install any other dependencies manually.\n\nEach snakemake rule in AmpSeeker specifies its own conda environment, which will be created the first time you run the workflow with the `--use-conda` flag.\n\n### 5. Testing the Setup\n\nTo test whether AmpSeeker is configured correctly, from the root directory you can perform a dry-run on the test dataset, with the following command:\n\n```bash\nconda activate ampseeker  # Make sure the environment is activated\nsnakemake --cores 1 --directory .test/ --use-conda --configfile .test/config/config_fastqauto.yaml -n\n```\n\nThe `-n` flag performs a dry run, showing which steps would be executed without actually running them.\n\n## Additional Resources\n\n**Conda Documentation**\nMore information about conda: https://conda.io/projects/conda/en/latest/user-guide/index.html\n\n**Snakemake Documentation**\nDetailed documentation for Snakemake: https://snakemake.readthedocs.io/",
   "outputs": []
  }
 ],
 "metadata": {
  "kernelspec": {
   "display_name": "Python 3.6.9 64-bit",
   "language": "python",
   "name": "python3"
  },
  "language_info": {
   "codemirror_mode": {
    "name": "ipython",
    "version": 3
   },
   "file_extension": ".py",
   "mimetype": "text/x-python",
   "name": "python",
   "nbconvert_exporter": "python",
   "pygments_lexer": "ipython3",
   "version": "3.6.9"
  },
  "vscode": {
   "interpreter": {
    "hash": "31f2aee4e71d21fbe5cf8b01ff0e069b9275f58929596ceb00d14d90e3e16cd6"
   }
  }
 },
 "nbformat": 4,
 "nbformat_minor": 5
}