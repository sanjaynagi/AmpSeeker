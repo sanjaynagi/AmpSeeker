{
 "cells": [
  {
   "attachments": {},
   "cell_type": "markdown",
   "id": "703231a2",
   "metadata": {},
   "source": [
    "# Input files\n",
    "\n",
    "AmpSeeker requires only: \n",
    "- Sample metadata file `.tsv, .csv, .xlsx`\n",
    "- Bed file of amplicon SNP coordinates `.bed`\n",
    "- Paired-end Amplicon-Seq data `.fastq.gz`\n",
    "- Reference genome files\n",
    "\n",
    "**Sample metadata file**\n",
    "\n",
    "The user must provide a sample metadata file, in .tsv, .csv, or excel format which should be placed in the config/ folder and pointed to in the users `config.yaml`. The default name is `metadata.tsv`.\n",
    "\n",
    "```\n",
    "metadata.tsv:\n",
    "\n",
    "|sampleID| location |  taxon  | latitude| longitude | \n",
    "|--------|----------|---------|-------- | --------- |\n",
    "|ContTia1|Tiassale  |coluzzii |   7.1   |     0     |\n",
    "|ContTia2|Tiassale  |coluzzii |   7.1   |     0     |\n",
    "|ContTia4|Tiassale  |coluzzii |   7.1   |     0     |\n",
    "|MalaTia1|Tiassale  |coluzzii |   7.1   |     0     |\n",
    "|MalaTia2|Tiassale  |coluzzii |   7.1   |     0     |\n",
    "|MalaTia4|Tiassale  |coluzzii |   7.1   |     0     |\n",
    "\n",
    "```\n",
    "\n",
    "Latitude and Longitudes are used to plot sample collection locations. If sample maps are not required, these columns can be omitted. Extra metadata columns can be added and used to colour the PCA plots, with configurable options in the `config.yaml` file.\n",
    "\n",
    "--- \n",
    "\n",
    "**Bed file of amplicon targets**\n",
    "\n",
    "Users should also provide a file in bed format, with 5 columns (chromosome, start, end, target_id, target_label), and no header. The bed file should contain the coordinates of the amplicon targets. The bed file should be placed in the `config/` folder and pointed to in the users `config.yaml`. The default name is `amplicon_targets.bed`. \n",
    "\n",
    "```\n",
    "\n",
    "|2L|  927246|  927247| snp_id_1| snp_label_1|\n",
    "|2L| 1274352| 1274353| snp_id_2| snp_label_2|\n",
    "|2L| 1418209| 1418210| snp_id_3| snp_label_3|\n",
    "|2L| 1571928| 1571929| snp_id_4| snp_label_4|\n",
    "|2L| 1776347| 1776348| snp_id_5| snp_label_5|\n",
    "|2L| 1947573| 1947574| snp_id_6| snp_label_6|\n",
    "|2L| 2380981| 2380982| snp_id_7| snp_label_7|\n",
    "\n",
    "```\n",
    "\n",
    "---\n",
    "\n",
    "\n",
    "**Illumina run folders or Paired-end Amplicon-Sequencing fastq reads**\n",
    "\n",
    "Users can either provide the path to an Illumina MiSeq run folder, or provide paired-end fastq reads. If converting BCL files to fastq within the workflow, a `SampleSheet.csv` must be placed in the Illumina run folder, with sampleIDs that match the sample metadata.tsv file. \n",
    "\n",
    "If providing fastq files, two gzipped fastq files for each sample are required, one for each pair of paired-end reads. Reads can be already trimmed or AmpSeeker can trim them, using the fastp module.\n",
    "\n",
    "The read location may be specified as follows:  \n",
    "\n",
    "`ampseeker_dir/resources/reads/`\n",
    "\n",
    "Reads can be named as `{sampleID}_1.fastq.gz`, `{sampleID}_2.fastq.gz`.\n",
    "\n",
    "---\n",
    "\n",
    "**Reference genome files**\n",
    "\n",
    "AmpSeeker uses bwa and samtools mpileup for alignment and variant calling. For variant calling, genome alignment is performed with bwa, which requires a fasta file containing the genome sequence. All input `.fa` files can be gzipped `.fa.gz`. \n",
    "\n",
    "The user provides the path to the reference files in the configuration file (`config.yaml`).\n",
    "\n",
    "1. **Genome chromosomes reference file (.fa/.fa.gz)**. Contains the DNA sequence for the genome in fasta format.\n",
    "2. **Genome feature file (.gff3 format)**. "
   ]
  }
 ],
 "metadata": {
  "kernelspec": {
   "display_name": "Python 3.6.9 64-bit",
   "language": "python",
   "name": "python3"
  },
  "language_info": {
   "codemirror_mode": {
    "name": "ipython",
    "version": 3
   },
   "file_extension": ".py",
   "mimetype": "text/x-python",
   "name": "python",
   "nbconvert_exporter": "python",
   "pygments_lexer": "ipython3",
   "version": "3.6.9"
  },
  "vscode": {
   "interpreter": {
    "hash": "31f2aee4e71d21fbe5cf8b01ff0e069b9275f58929596ceb00d14d90e3e16cd6"
   }
  }
 },
 "nbformat": 4,
 "nbformat_minor": 5
}
