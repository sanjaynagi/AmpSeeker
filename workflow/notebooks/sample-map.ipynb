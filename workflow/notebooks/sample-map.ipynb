{
 "cells": [
  {
   "cell_type": "code",
   "execution_count": null,
   "id": "c76433fc",
   "metadata": {
    "tags": [
     "remove-input"
    ]
   },
   "outputs": [],
   "source": [
    "from ipyleaflet import Map, Marker, basemaps\n",
    "import numpy as np\n",
    "import pandas as pd "
   ]
  },
  {
   "cell_type": "code",
   "execution_count": null,
   "id": "d6302ed5",
   "metadata": {
    "tags": [
     "parameters",
     "remove-input"
    ]
   },
   "outputs": [],
   "source": [
    "dataset = 'uvri-training-run2'\n",
    "metadata_path = \"../../results/config/metadata.qcpass.tsv\"\n",
    "wkdir = \"../../\""
   ]
  },
  {
   "cell_type": "markdown",
   "id": "696938a0",
   "metadata": {},
   "source": [
    "## Sample map\n",
    "\n",
    "In this notebook, we plot the location of each sample on an interactive map with ipyleaflet."
   ]
  },
  {
   "cell_type": "code",
   "execution_count": null,
   "id": "6ac5a801",
   "metadata": {
    "tags": [
     "remove-input"
    ]
   },
   "outputs": [],
   "source": [
    "metadata = pd.read_csv(metadata_path, sep=\"\\t\")\n",
    "\n",
    "center = metadata[['latitude', 'longitude']].mean().to_list()\n",
    "m = Map(center=center, zoom=5, basemap=basemaps.OpenTopoMap)\n",
    "\n",
    "for coh_id, row in metadata.iterrows():\n",
    "    lat, long = row[['latitude', 'longitude']]\n",
    "\n",
    "    marker = Marker(location=(lat, long), draggable=False, opacity=0.7)\n",
    "    m.add_layer(marker);\n",
    "\n",
    "display(m)"
   ]
  },
  {
   "cell_type": "code",
   "execution_count": null,
   "id": "a47c2c97",
   "metadata": {},
   "outputs": [],
   "source": []
  }
 ],
 "metadata": {
  "celltoolbar": "Tags",
  "kernelspec": {
   "display_name": "base",
   "language": "python",
   "name": "python3"
  },
  "language_info": {
   "codemirror_mode": {
    "name": "ipython",
    "version": 3
   },
   "file_extension": ".py",
   "mimetype": "text/x-python",
   "name": "python",
   "nbconvert_exporter": "python",
   "pygments_lexer": "ipython3",
   "version": "3.12.8"
  }
 },
 "nbformat": 4,
 "nbformat_minor": 5
}
