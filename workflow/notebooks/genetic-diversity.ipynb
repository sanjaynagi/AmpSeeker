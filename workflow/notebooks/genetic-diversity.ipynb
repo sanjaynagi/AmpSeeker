{
 "cells": [
  {
   "cell_type": "code",
   "execution_count": null,
   "id": "6057752e",
   "metadata": {
    "tags": [
     "remove-input"
    ]
   },
   "outputs": [],
   "source": [
    "import plotly.express as px\n",
    "import allel\n",
    "import numpy as np\n",
    "import pandas as pd\n",
    "\n",
    "def sample_diversity(geno, samples, pos):\n",
    "    pis = []\n",
    "    for i, sample in enumerate(samples):\n",
    "        ac = geno.take([i], axis=1).count_alleles()\n",
    "        pis.append(allel.sequence_diversity(ac=ac, pos=np.arange(len(pos))))\n",
    "\n",
    "    return pd.DataFrame({'sample_id':samples, 'pi':pis})\n",
    "\n",
    "def cohort_diversity(geno, pos, samples, metadata, cohort_col):\n",
    "    cohs = metadata[cohort_col].unique()\n",
    "    cohs = cohs[~pd.isnull(cohs)] #remove nan cohorts\n",
    "    coh_idxs = {loc:np.where(metadata[cohort_col] == loc)[0] for loc in cohs}\n",
    "\n",
    "    pis = []\n",
    "    for coh in cohs:\n",
    "        ac = geno.take(coh_idxs[coh], axis=1).count_alleles()\n",
    "        pis.append(allel.sequence_diversity(ac=ac, pos=np.arange(len(pos))))   \n",
    "\n",
    "    return pd.DataFrame({'cohort':cohs, 'pi':pis}) "
   ]
  },
  {
   "cell_type": "code",
   "execution_count": null,
   "id": "d4571035",
   "metadata": {
    "tags": [
     "remove-input",
     "parameters"
    ]
   },
   "outputs": [],
   "source": [
    "dataset = 'vigg-01'\n",
    "metadata_path = \"../../results/config/metadata.qcpass.tsv\"\n",
    "cohort_cols = 'location,taxon'\n",
    "vcf_path = \"../../results/vcfs/amplicons/ampseq-vigg-01.annot.vcf\"\n",
    "wkdir = \"../..\""
   ]
  },
  {
   "cell_type": "code",
   "execution_count": null,
   "id": "5baa88fe",
   "metadata": {
    "tags": [
     "remove-input"
    ]
   },
   "outputs": [],
   "source": [
    "import sys\n",
    "import os\n",
    "sys.path.append(os.path.join(wkdir, 'workflow'))\n",
    "import ampseekertools as amp"
   ]
  },
  {
   "cell_type": "markdown",
   "id": "7d349d15",
   "metadata": {
    "tags": [
     "remove-input"
    ]
   },
   "source": [
    "### Genetic diversity\n",
    "\n",
    "This page calculates genetic diversity in individuals and cohorts. Genetic diversity (π) is a measure of nucleotide diversity that quantifies the average number of nucleotide differences per site between two sequences (Nei & Li, 1979). It provides insights into population history and evolutionary forces.\n",
    "\n",
    "*Note*: Calculating genetic diversity from Ag-vampIR amplicons is tricky because there are so many IR amplicons, results will be biased by the presence of selective sweeps. AIMs may also not be neutral. "
   ]
  },
  {
   "cell_type": "code",
   "execution_count": null,
   "id": "c702a1cd",
   "metadata": {
    "tags": [
     "remove-input",
     "remove-output"
    ]
   },
   "outputs": [],
   "source": [
    "cohort_cols = cohort_cols.split(\",\")\n",
    "\n",
    "# load metadata\n",
    "if metadata_path.endswith('.xlsx'):\n",
    "    metadata = pd.read_excel(metadata_path, engine='openpyxl')\n",
    "elif metadata_path.endswith('.tsv'):\n",
    "    metadata = pd.read_csv(metadata_path, sep=\"\\t\")\n",
    "elif metadata_path.endswith('.csv'):\n",
    "    metadata = pd.read_csv(metadata_path, sep=\",\")\n",
    "else:\n",
    "    raise ValueError(\"Metadata file must be .xlsx or .csv\")\n",
    "\n",
    "geno, pos, contig, metadata, ref, alt, ann = amp.load_vcf(vcf_path, metadata, platform=platform)\n",
    "samples = metadata['sample_id'].values"
   ]
  },
  {
   "cell_type": "markdown",
   "id": "bb1e69eb",
   "metadata": {},
   "source": [
    "#### By cohort"
   ]
  },
  {
   "cell_type": "code",
   "execution_count": null,
   "id": "f7924b40",
   "metadata": {
    "tags": [
     "remove-input"
    ]
   },
   "outputs": [],
   "source": [
    "for coh in cohort_cols:\n",
    "    df_cohort_pi = cohort_diversity(\n",
    "        geno=geno, \n",
    "        pos=pos,\n",
    "        samples=samples, \n",
    "        metadata=metadata, \n",
    "        cohort_col=coh\n",
    "    )\n",
    "    df_cohort_pi.to_csv(f\"{wkdir}/results/genetic-diversity/{coh}.pi.tsv\", sep=\"\\t\")\n",
    "    \n",
    "    fig = px.bar(df_cohort_pi, x='cohort', y='pi', template='simple_white', width=600, height=400)\n",
    "    fig.show()"
   ]
  },
  {
   "cell_type": "code",
   "execution_count": null,
   "id": "44248773",
   "metadata": {
    "tags": [
     "remove-input"
    ]
   },
   "outputs": [],
   "source": [
    "sample_pi_df = sample_diversity(geno=geno, samples=samples, pos=pos)\n",
    "sample_pi_df.to_csv(f\"{wkdir}/results/genetic-diversity/samples.pi.tsv\", sep=\"\\t\")"
   ]
  },
  {
   "cell_type": "code",
   "execution_count": null,
   "id": "813ee8e6",
   "metadata": {},
   "outputs": [],
   "source": []
  }
 ],
 "metadata": {
  "celltoolbar": "Tags",
  "kernelspec": {
   "display_name": "AmpSeq_python",
   "language": "python",
   "name": "ampseq_python"
  },
  "language_info": {
   "codemirror_mode": {
    "name": "ipython",
    "version": 3
   },
   "file_extension": ".py",
   "mimetype": "text/x-python",
   "name": "python",
   "nbconvert_exporter": "python",
   "pygments_lexer": "ipython3",
   "version": "3.12.9"
  }
 },
 "nbformat": 4,
 "nbformat_minor": 5
}
