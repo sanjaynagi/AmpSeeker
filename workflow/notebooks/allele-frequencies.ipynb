{
 "cells": [
  {
   "cell_type": "code",
   "execution_count": null,
   "id": "cd3f429b",
   "metadata": {
    "tags": [
     "remove-input"
    ]
   },
   "outputs": [],
   "source": [
    "import plotly.express as px\n",
    "import allel\n",
    "import numpy as np\n",
    "import pandas as pd\n",
    "\n",
    "import warnings\n",
    "warnings.filterwarnings('ignore')\n",
    "\n",
    "def vcf_to_snp_dataframe(vcf_path, metadata, platform):\n",
    "    import ampseekertools as amp\n",
    "\n",
    "    geno, pos, contig, metadata, ref, alt, ann = amp.load_vcf(vcf_path=vcf_path, metadata=metadata, platform=platform)\n",
    "    \n",
    "    # make dataframe of variant positions and merge with bed\n",
    "    snp_df = pd.DataFrame({'contig':contig, 'pos':pos, 'ref':ref, 'alt':[list(a[a != \"\"]) for a in alt], 'ann':ann})\n",
    "\n",
    "    snp_df = snp_df.explode('alt').reset_index().rename(columns={'index':'variant_index'})\n",
    "    snp_df = snp_df.assign(alt_index=snp_df.groupby(['contig','pos']).cumcount() + 1) \n",
    "    snp_df = snp_df.assign(label=lambda x: x.pos.astype(str) + \" | \" +  x.alt.fillna('NA'))\n",
    "    snp_df.head(2)\n",
    "\n",
    "    # split and find correct annotation \n",
    "    df = snp_df.assign(ann=lambda x: x.ann.str.split(\",\"))\n",
    "    anns = []\n",
    "    for i, row in df.iterrows():\n",
    "        alt = row['alt']\n",
    "        if row['ann'] == None:\n",
    "            ann = \"\"\n",
    "        else:\n",
    "            # keep only RD Vgsc annotations\n",
    "            if 'AGAP004707' in ','.join(row['ann']):\n",
    "                row['ann'] = [a for a in row['ann'] if \"AGAP004707-RD\" in a]\n",
    "\n",
    "            ann = ','.join([a for a in row['ann'] if a.startswith(alt)])\n",
    "        anns.append(ann)\n",
    "\n",
    "    snp_df = snp_df.assign(ann=anns)\n",
    "    \n",
    "    return snp_df, geno\n",
    "\n",
    "def calculate_frequencies_cohort(snp_df, metadata, geno, cohort_col, af_filter, missense_filter):\n",
    "    np.seterr(all=\"ignore\")\n",
    "    \n",
    "    df = snp_df.copy()\n",
    "    \n",
    "    # get indices of each cohort\n",
    "    coh_dict = {}\n",
    "    cohs = metadata[cohort_col].unique()\n",
    "    cohs = cohs[~pd.isnull(cohs)]\n",
    "    for coh in cohs:\n",
    "        coh_dict[coh] = np.where(metadata[cohort_col] == coh)[0]\n",
    "    \n",
    "    # get allele counts for each population\n",
    "    ac = geno.count_alleles_subpops(coh_dict, max_allele=3)\n",
    "    \n",
    "    for coh in cohs:\n",
    "        total_counts = []\n",
    "        alt_counts = []\n",
    "        for i, row in df.iterrows():\n",
    "            var_idx = row['variant_index']\n",
    "            alt_idx = row['alt_index']\n",
    "            total_counts.append(ac[coh][var_idx,:].sum())\n",
    "            alt_counts.append(ac[coh][var_idx, alt_idx])\n",
    "\n",
    "        df.loc[:, f'count_{coh}'] = np.array(alt_counts)\n",
    "        df.loc[:, f'frq_{coh}'] = np.round(np.array(alt_counts)/np.array(total_counts), 3)\n",
    "    \n",
    "    freq_df = df.set_index('label').filter(like='frq')\n",
    "    \n",
    "    ann_df = snp_df.ann.str.split(\"|\", expand=True).iloc[:, :11].drop(columns=[0,7,8])\n",
    "    ann_df.columns = ['type', 'effect', 'gene', 'geneID', 'modifier', 'transcript', 'base_change', 'aa_change']\n",
    "    snp_df = pd.concat([snp_df[['contig', 'pos', 'ref', 'alt']], ann_df], axis=1)\n",
    "    snp_freq_df = pd.concat([snp_df, freq_df.reset_index()], axis=1)\n",
    "\n",
    "    snp_freq_df = snp_freq_df.assign(label=\n",
    "                  lambda x: x.contig + \" | \" + x.gene + \" | \" + x.pos.astype(str) + \" | \" + x.aa_change.str.replace(\"p.\", \"\") + \" | \" + x.alt.fillna(\" \")\n",
    "                 )\n",
    "    \n",
    "    if af_filter:\n",
    "        af_pass = (snp_freq_df.filter(like='frq') > 0.05).any(axis=1)\n",
    "        snp_freq_df = snp_freq_df[af_pass]\n",
    "    \n",
    "    if missense_filter:\n",
    "        snp_freq_df = snp_freq_df.query(\"type == 'missense_variant'\")\n",
    "    \n",
    "    return snp_freq_df.set_index('label')\n",
    "\n",
    "def plot_allele_frequencies(df, cohort_col, colscale=\"Reds\"):\n",
    "        \n",
    "    fig = px.imshow(\n",
    "            img=df,\n",
    "            zmin=0,\n",
    "            zmax=1,\n",
    "            width=np.max([800, df.shape[1] * 100]),\n",
    "            height=200 + (df.shape[0] * 18),\n",
    "            text_auto=True,\n",
    "            aspect=1,\n",
    "            color_continuous_scale=colscale,\n",
    "            title=f\"Allele frequencies | by {cohort_col}\",\n",
    "        template='simple_white'\n",
    "        )\n",
    "    fig.update(layout_coloraxis_showscale=False)\n",
    "\n",
    "    return fig "
   ]
  },
  {
   "cell_type": "code",
   "execution_count": null,
   "id": "d4571035",
   "metadata": {
    "tags": [
     "remove-input",
     "parameters"
    ]
   },
   "outputs": [],
   "source": [
    "dataset = 'nomads16'\n",
    "metadata_path = \"../../results/config/metadata.qcpass.tsv\"\n",
    "cohort_cols = 'library_name'\n",
    "bed_path = \"../../config/nomads16.bed\"\n",
    "vcf_path = f\"../../results/vcfs/targets/{dataset}.annot.vcf\"\n",
    "wkdir = \"../..\"\n",
    "platform = 'nanopore'"
   ]
  },
  {
   "cell_type": "code",
   "execution_count": null,
   "id": "85da67bf",
   "metadata": {
    "tags": [
     "remove-input"
    ]
   },
   "outputs": [],
   "source": [
    "import sys\n",
    "import os\n",
    "sys.path.append(os.path.join(wkdir, 'workflow'))\n",
    "import ampseekertools as amp"
   ]
  },
  {
   "cell_type": "markdown",
   "id": "7d349d15",
   "metadata": {
    "tags": [
     "remove-input"
    ]
   },
   "source": [
    "### Plotting allele frequencies\n",
    "\n",
    "This page shows allele frequencies in each cohort of the SNPs genotyped in the amplicon sequencing protocol. Allele frequency refers to the proportion of a specific genetic variant in a population."
   ]
  },
  {
   "cell_type": "code",
   "execution_count": null,
   "id": "ee8c132c",
   "metadata": {
    "tags": [
     "remove-input",
     "remove-output"
    ]
   },
   "outputs": [],
   "source": [
    "cohort_cols = cohort_cols.split(\",\")\n",
    "\n",
    "df_bed = pd.read_csv(bed_path, sep=\"\\t\", header=None, names=['contig', 'start', 'end', 'amplicon_id', 'mutation', 'ref', 'alt'])\n",
    "\n",
    "metadata = pd.read_csv(metadata_path, sep=\"\\t\")"
   ]
  },
  {
   "cell_type": "code",
   "execution_count": null,
   "id": "19a63cb1",
   "metadata": {
    "tags": [
     "remove-input"
    ]
   },
   "outputs": [],
   "source": [
    "non_aim_snps = df_bed.query(\"~mutation.str.contains('AIM')\").end.to_numpy()\n",
    "snp_df, geno = vcf_to_snp_dataframe(vcf_path, metadata, platform=platform)\n",
    "\n",
    "maf_threshold = 0.02\n",
    "\n",
    "frq_dfs = []\n",
    "vgsc_frq_dfs = []\n",
    "for cohort_col in cohort_cols:\n",
    "    \n",
    "    freq_df = calculate_frequencies_cohort(\n",
    "        snp_df=snp_df, \n",
    "        metadata=metadata,\n",
    "        geno=geno, \n",
    "        cohort_col=cohort_col,\n",
    "        af_filter=maf_threshold,\n",
    "        missense_filter=False\n",
    "    )\n",
    "\n",
    "    freq_df['contig'] = pd.Categorical(freq_df['contig'], categories=['2R', '2L', '3R', '3L', 'X'], ordered=True)\n",
    "    freq_df = freq_df.sort_values(by=['contig', 'pos'])\n",
    "    vgsc_freq_df = freq_df.query(\"gene == 'para'\")\n",
    "    para = True if not vgsc_freq_df.empty else False\n",
    "    freq_df = freq_df.query(\"gene ! = 'para' and pos in @non_aim_snps\")\n",
    "    frq_dfs.append(freq_df.reset_index(drop=True))\n",
    "\n",
    "    if freq_df.empty:\n",
    "        print(f\"No variants found after filtering for cohort {cohort_col} at maf > {maf_threshold}\")\n",
    "        continue\n",
    "\n",
    "    fig = plot_allele_frequencies(\n",
    "        df=freq_df.filter(like='frq_'),\n",
    "        cohort_col=cohort_col,\n",
    "        colscale=\"Reds\"\n",
    "    )\n",
    "    fig.write_image(f\"{wkdir}/results/allele_frequencies_{cohort_col}.png\", scale=2)\n",
    "    fig.show()\n",
    "\n",
    "    if para:\n",
    "        vgsc_frq_dfs.append(vgsc_freq_df.reset_index(drop=True))\n",
    "        fig1 = plot_allele_frequencies(\n",
    "            df=vgsc_freq_df.filter(like='frq_'),\n",
    "            cohort_col=cohort_col,\n",
    "            colscale=\"Oranges\"\n",
    "        )\n",
    "        fig.write_image(f\"{wkdir}/results/allele_frequencies_{cohort_col}_vgsc.png\", scale=2)\n",
    "        fig1.show()"
   ]
  },
  {
   "cell_type": "markdown",
   "id": "ece08d55",
   "metadata": {},
   "source": [
    "#### SNP frequency summary table\n",
    "\n",
    "This table summarizes allele frequencies across all cohorts."
   ]
  },
  {
   "cell_type": "code",
   "execution_count": null,
   "id": "72ffa152",
   "metadata": {
    "tags": [
     "remove-input"
    ]
   },
   "outputs": [],
   "source": [
    "pd.set_option(\"display.max_rows\", 200)\n",
    "pd.set_option('display.max_columns', 100)\n",
    "\n",
    "if para:\n",
    "    snp_df = pd.concat([pd.concat(vgsc_frq_dfs), pd.concat(frq_dfs)])\n",
    "else:\n",
    "    snp_df = pd.concat(frq_dfs)\n",
    "\n",
    "snp_df.to_csv(f\"{wkdir}/results/snp_frequencies_summary.tsv\", sep=\"\\t\")\n",
    "snp_df"
   ]
  },
  {
   "cell_type": "markdown",
   "id": "b3267a7d",
   "metadata": {},
   "source": [
    "#### Allele frequencies of any SNPs across amplicons\n",
    "\n",
    "This heatmap visualizes missense mutations found across all amplicons, focusing on functionally relevant variants that change amino acid sequences and potentially affect protein function."
   ]
  },
  {
   "cell_type": "code",
   "execution_count": null,
   "id": "350de0cb",
   "metadata": {
    "scrolled": true,
    "tags": [
     "remove-input"
    ]
   },
   "outputs": [],
   "source": [
    "vcf_path = f\"{wkdir}/results/vcfs/amplicons/{dataset}.annot.vcf\"\n",
    "cohort_col = cohort_cols[0]\n",
    "\n",
    "snp_df, geno = vcf_to_snp_dataframe(vcf_path, metadata, platform=platform)\n",
    "\n",
    "snp_freq_df = calculate_frequencies_cohort(\n",
    "    snp_df=snp_df, \n",
    "    metadata=metadata,\n",
    "    geno=geno, \n",
    "    cohort_col=cohort_col, \n",
    "    af_filter=0.05,\n",
    "    missense_filter=True\n",
    ")   \n",
    "\n",
    "snp_freq_df = snp_freq_df.filter(like='frq')\n",
    "snp_freq_df.columns = snp_freq_df.columns.str.replace(\"frq_\", \"\")\n",
    "\n",
    "plot_allele_frequencies(\n",
    "    df=snp_freq_df,\n",
    "    cohort_col=cohort_col\n",
    ")"
   ]
  }
 ],
 "metadata": {
  "celltoolbar": "Tags",
  "kernelspec": {
   "display_name": "pythonGenomics",
   "language": "python",
   "name": "pythongenomics"
  },
  "language_info": {
   "codemirror_mode": {
    "name": "ipython",
    "version": 3
   },
   "file_extension": ".py",
   "mimetype": "text/x-python",
   "name": "python",
   "nbconvert_exporter": "python",
   "pygments_lexer": "ipython3",
   "version": "3.10.12"
  }
 },
 "nbformat": 4,
 "nbformat_minor": 5
}
