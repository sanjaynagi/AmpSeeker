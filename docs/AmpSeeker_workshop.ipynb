{
  "cells": [
    {
      "cell_type": "markdown",
      "metadata": {
        "id": "view-in-github",
        "colab_type": "text"
      },
      "source": [
        "<a href=\"https://colab.research.google.com/github/sanjaynagi/AmpSeeker/blob/main/docs/AmpSeeker_workshop.ipynb\" target=\"_parent\"><img src=\"https://colab.research.google.com/assets/colab-badge.svg\" alt=\"Open In Colab\"/></a>"
      ]
    },
    {
      "cell_type": "markdown",
      "metadata": {
        "id": "VgBZ27mIQXW9"
      },
      "source": [
        "<center>\n",
        "<img src=\"https://drive.google.com/uc?id=10AHbOZGReBnqkTylrW1bQqm7l_ROF0qg\" alt=\"AmpSeeker Logo\" width=\"380\" height=\"260\">\n",
        "</center>\n",
        "\n",
        "# Targeted Genomic Surveillance of Insecticide Resistance in *An. gambiae s.l* with AmpSeeker and Ag-vampIR\n",
        "\n",
        "Welcome to this hands-on workshop on amplicon sequencing in African malaria vectors. In this workshop, we will recap on genomic surveillance for malaria vectors and using workflow managers, and analyse some amplicon sequencing data with AmpSeeker.\n",
        "\n",
        "*   [AmpSeeker GitHub repo](https://github.com/sanjaynagi/AmpSeeker)\n",
        "*   [AmpSeeker Documentation](https://sanjaynagi.github.io/AmpSeeker/)\n",
        "*   [Ag-vampIR-AmpSeeker results book](https://sanjaynagi.github.io/agvampir002-results/intro.html)\n",
        "*   [Workshop Slides](https://docs.google.com/presentation/d/102D4w7hT2PRECYRvXQmf2K-_VFhVnzKunSD8LMF9OqY/edit?usp=sharing)\n"
      ]
    },
    {
      "cell_type": "markdown",
      "metadata": {
        "id": "YaOB3Km2Z_WB"
      },
      "source": [
        "#### The Ag-vampIR amplicon panel\n",
        "\n",
        "Ag-vampIR (the *Anopheles gambiae* Vector Amplicon Marker Panel for Insecticide Resistance) is an Illumina amplicon sequencing panel designed for surveillance of insecticide resistance in malaria vectors. The panel:\n",
        "\n",
        "- Contains 80 amplicons targeting 90 SNP markers in the *An. gambiae* genome\n",
        "- Targets known insecticide resistance loci and ancestry informative markers\n",
        "\n",
        "<!DOCTYPE html>\n",
        "<html lang=\"en\">\n",
        "<head>\n",
        "  <meta charset=\"UTF-8\">\n",
        "  <meta name=\"viewport\" content=\"width=device-width, initial-scale=1.0\">\n",
        "</head>\n",
        "<body>\n",
        "  <center>\n",
        "  <img\n",
        "    src=\"https://raw.githubusercontent.com/sanjaynagi/AmpSeeker/refs/heads/main/docs/agvampir-ampseeker.png\"\n",
        "    alt=\"AmpSeeker Logo\"\n",
        "    width=\"600\"\n",
        "    height=\"600\">\n",
        "  </center>\n",
        "</body>\n",
        "</html>\n",
        "\n",
        "#### AmpSeeker\n",
        "\n",
        "AmpSeeker is a computational workflow designed to analyze Illumina amplicon sequencing data. It works on any amplicon sequencing data from any diploid organism, but has specific additional modules for the Ag-vampIR panel.\n",
        "\n",
        "- Provides end-to-end analysis from raw sequencing data to variant calling and downstream analyses\n",
        "- Is built on Snakemake, ensuring reproducible and automated analysis\n",
        "- Generates interactive visualizations and a local webpage for easy data exploration\n",
        "\n",
        "AmpSeeker streamlines the entire analytical pipeline, making genomic surveillance more accessible to researchers without extensive bioinformatics expertise.\n",
        "\n",
        "<br></br>\n",
        "\n",
        "## Workshop Aims\n",
        "\n",
        "In this workshop, we aim to:\n",
        "\n",
        "1. Introduce you to the principles of targeted genomic surveillance for insecticide resistance monitoring\n",
        "2. Use AmpSeeker to analyse data from the Ag-vampIR amplicon panel. We will analyse the data from the recent manuscript."
      ]
    },
    {
      "cell_type": "markdown",
      "metadata": {
        "id": "YG6VkxgDrwkb"
      },
      "source": [
        "## Requisites\n",
        "- Linux, Mac OSX\n",
        "- Conda (preferably with Mamba also installed)\n",
        "- Snakemake and Pandas `mamba install -c bioconda snakemake pandas`"
      ]
    },
    {
      "cell_type": "markdown",
      "metadata": {
        "id": "jAwACnn13Pgz"
      },
      "source": [
        "## Setup the workflow\n",
        "\n",
        "**1. Clone the AmpSeeker repository to your system and set up conda**\n",
        "\n",
        "`git clone https://github.com/sanjaynagi/AmpSeeker.git AgvampIR-workshop`\n",
        "\n",
        "or if on the h3bionet server:\n",
        "\n",
        " `. /srv/UVRI-LSTM/AmpSeeker/setup.sh`  \n",
        "\n",
        "**2. Prepare the Illumina input data**\n",
        "\n",
        "\n",
        "You can download from the following [dropbox link](\n",
        "https://www.dropbox.com/scl/fi/o3r3nkiv8nfebgaryg5cp/14_02_2024_MiSeq_output.zip?rlkey=0t34t8sx1ondox1bdz1k16nlf&st=qips0cfy&dl=0) (~4Gb total), or this command from the command line:\n",
        "\n",
        "```\n",
        "#### bcl folder (4Gb)\n",
        "curl -L \"https://www.dropbox.com/scl/fi/o3r3nkiv8nfebgaryg5cp/14_02_2024_MiSeq_output.zip?rlkey=0t34t8sx1ondox1bdz1k16nlf&st=qips0cfy&dl=1\" -o agvampir-ms-bcl-output.zip && unzip agvampir-ms-bcl-output.zip -d ag-vampir-ms-output\n",
        "\n",
        "#### subset of the reads (~120Mb)\n",
        "curl -L \"https://www.dropbox.com/scl/fi/fvjfb9hbckrp9ltjnloby/agvampir002.zip?rlkey=24c0c4qh6ypr1l5p2h1agm0l7&st=salhhbv3&dl=1\" -o agvampir-ms-bcl-output.zip && unzip agvampir-ms-bcl-output.zip -d ag-vampir-ms-output\n",
        "```\n",
        "\n",
        "After the download is complete, extract the .zip or move the folder to the `AgvampIR-workshop/resources/` directory."
      ]
    },
    {
      "cell_type": "markdown",
      "metadata": {
        "id": "GQN2dFtKpTYx"
      },
      "source": [
        "### Explore the metadata and config input files\n",
        "We provide metadata information to AmpSeeker with either a `SampleSheet.csv` or `metadata.tsv` file, and configuration of the workflow is with a config.yaml file. Let's take a look at...\n",
        "\n",
        "1.  The SampleSheet within the Illumina `14_02_2024_MiSeq_output` directory.\n",
        "\n",
        "```bash\n",
        "# View the SampleSheet from the Illumina run directory\n",
        "cat /DATASETS/ampseeker/14_02_2024_MiSeq_output/SampleSheet.csv\n",
        "```\n",
        "\n",
        "2.  The example config.yaml in the `config` directory.\n",
        "\n",
        "```bash\n",
        "# View the example config file\n",
        "cat config/config.yaml\n",
        "```\n",
        "<br></br>\n",
        "\n",
        "## Setting up reference genomes\n",
        "\n",
        "AmpSeeker requires reference genomes for alignment and variant calling. For the Ag-vampIR panel, we need the *Anopheles gambiae* reference genome (AgamP4).\n",
        "\n",
        "### Download the reference genomes\n",
        "\n",
        "If you're working on your own machine without access to these files, you can download them from VectorBase using the script within `resources/reference`:  \n",
        "```bash\n",
        "bash ./resources/reference/download-reference-genome.sh\n",
        "\n",
        "```\n",
        "Run it from the `AgvampIR-workshop/` directory.\n",
        "\n",
        "<!--\n",
        "On the workshop cluster, the reference genomes are already available. We can't directly link to the /DATASETS/ directory, as the workflow will then try to create genome indexes there, and we dont have write permissions. We can create a symbolic link to use them:\n",
        "\n",
        "```bash\n",
        "# Create symbolic links to the reference genomes\n",
        "ln -s /DATASETS/ampseeker/resources/reference/AgamP4.fa ampseeker-workshop/resources/reference/\n",
        "ln -s /DATASETS/ampseeker/resources/reference/AgamP4.gff3 ampseeker-workshop/resources/reference/\n",
        "``` -->\n",
        "\n",
        "<br></br>\n",
        "\n",
        "## Create the configuration file (config.yaml)\n",
        "Now let's create a configuration file for our analysis. We'll start by making a copy of the example config file and modify it for our dataset:\n",
        "\n",
        "```bash\n",
        "cp config/config.yaml config/config_workshop.yaml\n",
        "```\n",
        "\n",
        "Now edit the config_workshop.yaml file to match our dataset. The file should look something like this:\n",
        "\n",
        "```yaml\n",
        "# Dataset and panel information\n",
        "dataset: agvampir-workshop\n",
        "panel: ag-vampir\n",
        "cohort-columns:\n",
        "  - location\n",
        "  - taxon\n",
        "targets: config/ag-vampir.bed\n",
        "\n",
        "# Illumina directory (using the MiSeq output)\n",
        "illumina-dir: resources/14_02_2024_MiSeq_output\n",
        "\n",
        "# Reference genome information\n",
        "reference-fasta: resources/reference/Anopheles-gambiae-PEST_CHROMOSOMES_AgamP4.fa\n",
        "reference-gff3: resources/reference/Anopheles-gambiae-PEST_BASEFEATURES_AgamP4.12.gff3\n",
        "reference-snpeffdb: Anopheles_gambiae\n",
        "custom-snpeffdb: False\n",
        "\n",
        "# Input file type options\n",
        "from-bcl: True\n",
        "fastq:\n",
        "  auto: True\n",
        "\n",
        "# Quality control options\n",
        "quality-control:\n",
        "  sample-total-reads-threshold: 250\n",
        "  amplicon-total-reads-threshold: 1000\n",
        "  fastp: True\n",
        "  coverage: True\n",
        "  stats: True\n",
        "  multiqc: True\n",
        "\n",
        "# Analysis options\n",
        "analysis:\n",
        "  sample-map: False\n",
        "  population-structure: True\n",
        "  genetic-diversity: True\n",
        "  allele-frequencies: True\n",
        "\n",
        "# Build Jupyter book\n",
        "build-jupyter-book: True\n",
        "```"
      ]
    },
    {
      "cell_type": "markdown",
      "source": [
        "## activate conda and snakemake\n",
        "\n"
      ],
      "metadata": {
        "id": "g66nzE8_8Qq2"
      }
    },
    {
      "cell_type": "markdown",
      "metadata": {
        "id": "I3_OFbnFpTYy"
      },
      "source": [
        "## Run AmpSeeker\n",
        "\n",
        "Now that we have our configuration file and data set up, we can run AmpSeeker on our dataset. First, let's do a dry run to see what steps the workflow will execute:\n",
        "\n",
        "```bash\n",
        "snakemake --cores 4 --use-conda --configfile config/config_workshop.yaml -n\n",
        "```\n",
        "\n",
        "This will show you all the steps that will be executed without actually running them. If everything looks good, you can run the full analysis:\n",
        "\n",
        "```bash\n",
        "snakemake --cores 4 --use-conda --configfile config/config_workshop.yaml\n",
        "```\n",
        "\n",
        "<br></br>\n",
        "\n",
        "#### Open the results web book\n",
        "\n",
        "After AmpSeeker has completed running, it will generate a Jupyter Book with all the results in an easy-to-browse format. There are two ways to view this book:\n",
        "\n",
        "**Option 1: Using Python's built-in HTTP server**\n",
        "\n",
        "```bash\n",
        "cd results/ampseeker-results/_build/html/\n",
        "python -m http.server\n",
        "```\n",
        "\n",
        "Then, open your web browser and go to `http://localhost:8000` to view the book.\n",
        "\n",
        "**Option 2: Opening the HTML file directly (if running on a local machine)**\n",
        "\n",
        "If you're running AmpSeeker on your local machine, you can simply open the index.html file directly in your web browser:\n",
        "\n",
        "```bash\n",
        "open results/ampseeker-results/_build/html/index.html  # For macOS\n",
        "# or\n",
        "xdg-open results/ampseeker-results/_build/html/index.html  # For Linux\n",
        "```\n",
        "\n",
        "<br></br>\n",
        "\n",
        "## Exploring the results\n",
        "\n",
        "The Jupyter Book contains several sections that provide comprehensive analysis of your amplicon sequencing data:\n",
        "\n",
        "1.  **Run Information**: Overview of the sequencing run and sample metadata\n",
        "2.  **Read Quality**: Quality metrics for raw and processed reads\n",
        "3.  **Coverage**: Depth and breadth of coverage across amplicons\n",
        "4.  **Variant Calling**: SNPs and other variants identified\n",
        "5.  **Population Structure**: Principal component analysis of genetic variation\n",
        "6.  **Genetic Diversity**: Measures of diversity within and between populations\n",
        "7.  **Ag-vampIR Specific Analyses**: If using the Ag-vampIR panel:\n",
        "    *   **Species Identification**: Results of the species classification\n",
        "    *   **Kdr Analysis**: Analysis of knockdown resistance mutations\n",
        "\n",
        "Take some time to explore the different sections and visualizations in the web page."
      ]
    },
    {
      "cell_type": "markdown",
      "source": [
        "---\n",
        "\n",
        "Workshop complete! :)"
      ],
      "metadata": {
        "id": "iPIDLn1eplsA"
      }
    }
  ],
  "metadata": {
    "colab": {
      "provenance": [],
      "include_colab_link": true
    },
    "kernelspec": {
      "display_name": "Python 3",
      "name": "python3"
    },
    "language_info": {
      "name": "python"
    }
  },
  "nbformat": 4,
  "nbformat_minor": 0
}